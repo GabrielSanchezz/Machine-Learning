{
 "cells": [
  {
   "cell_type": "code",
   "execution_count": 112,
   "id": "7cedf931-4de6-4fbb-a905-c0d39ec7345f",
   "metadata": {
    "tags": []
   },
   "outputs": [],
   "source": [
    "from graphviz import Digraph\n",
    "import math"
   ]
  },
  {
   "cell_type": "markdown",
   "id": "5d623ece",
   "metadata": {},
   "source": [
    "# Função para Criar Grafos"
   ]
  },
  {
   "cell_type": "code",
   "execution_count": 118,
   "id": "0774dd0f",
   "metadata": {},
   "outputs": [],
   "source": [
    "def trace(root):\n",
    "    nodes, edges = set(), set()\n",
    "    def build(v):\n",
    "        if v not in nodes:\n",
    "            nodes.add(v)\n",
    "            for child in v._prev:\n",
    "                edges.add((child, v))\n",
    "                build(child)\n",
    "    build(root)\n",
    "    return nodes, edges\n",
    "\n",
    "def draw_dot(root, format='svg', rankdir='LR'):\n",
    "    \"\"\"\n",
    "    format: png | svg | ...\n",
    "    rankdir: TB (top to bottom graph) | LR (left to right)\n",
    "    \"\"\"\n",
    "    nodes, edges = trace(root)\n",
    "    dot = Digraph(format=format, graph_attr={'rankdir': rankdir}) #, node_attr={'rankdir': 'TB'})\n",
    "    \n",
    "    for n in nodes:\n",
    "        dot.node(name=str(id(n)), label = \"{ %s|data %.4f| grad %.4f}\" % (n.label, n.data, n.grad ), shape='record')\n",
    "        if n._op:\n",
    "            dot.node(name=str(id(n)) + n._op, label=n._op)\n",
    "            dot.edge(str(id(n)) + n._op, str(id(n)))\n",
    "    \n",
    "    for n1, n2 in edges:\n",
    "        dot.edge(str(id(n1)), str(id(n2)) + n2._op)\n",
    "    \n",
    "    return dot"
   ]
  },
  {
   "cell_type": "markdown",
   "id": "87b4522e",
   "metadata": {},
   "source": [
    "# AutoGrad\n",
    "\n",
    "\n",
    "A ideia das funções _backward() é definir como as variáveis que foram operadas para produzir uma nova variável devem afetar o gradiente durante o backpropagation.\n",
    "\n",
    "* Adição (__add__): O gradiente de cada operando é simplesmente o gradiente da saída multiplicado por 1.\n",
    "* Multiplicação (__mul__): O gradiente de cada operando é o gradiente da saída multiplicado pelo valor do outro operando.\n",
    "* Tangente Hiperbólica (tanh): O gradiente do operando é o gradiente da saída multiplicado pela derivada da tangente hiperbólica."
   ]
  },
  {
   "cell_type": "code",
   "execution_count": 123,
   "id": "9d6dc162-2b9b-42be-ae6b-ef3ef341474d",
   "metadata": {
    "tags": []
   },
   "outputs": [],
   "source": [
    "class Value:\n",
    "    def __init__(self, data, _children=(), _op='', label=\"\"):\n",
    "        self.data = data\n",
    "        self.grad = 0.0\n",
    "        self._backward = lambda: None \n",
    "        self._prev = set(_children)\n",
    "        self._op = _op\n",
    "        self.label = label\n",
    "    \n",
    "    def __repr__(self):\n",
    "        return f\"Value(data={self.data}, label={self.label})\"\n",
    "    \n",
    "    def __add__(self, other):\n",
    "        out = Value(self.data + other.data, (self, other), \"+\")\n",
    "        \n",
    "        def _backward():\n",
    "            self.grad += 1.0 * out.grad\n",
    "            other.grad += 1.0 * out.grad\n",
    "        out._backward = _backward \n",
    "        return out\n",
    "\n",
    "    def __mul__(self, other):\n",
    "        out = Value(self.data * other.data, (self, other), \"*\")\n",
    "        \n",
    "        def _backward():\n",
    "            self.grad += other.data * out.grad\n",
    "            other.grad += self.data * out.grad\n",
    "            \n",
    "        out._backward = _backward\n",
    "        return out\n",
    "    \n",
    "    def tanh(self):\n",
    "        x = self.data\n",
    "        t = (math.exp(2*x) - 1) / (math.exp(2*x) + 1)\n",
    "        out = Value(t, (self,), \"tanh\")\n",
    "\n",
    "        def _backward():\n",
    "            self.grad += (1 - t * t) * out.grad\n",
    "        out._backward = _backward\n",
    "        \n",
    "        return out"
   ]
  },
  {
   "cell_type": "code",
   "execution_count": 124,
   "id": "4e8bc19f-44ac-4be2-a8ba-d3453795a7d1",
   "metadata": {
    "tags": []
   },
   "outputs": [
    {
     "name": "stdout",
     "output_type": "stream",
     "text": [
      "{Value(data=0.881373, label=n)}\n",
      "2508895462096\n"
     ]
    }
   ],
   "source": [
    "# Criação dos objetos\n",
    "x1 = Value(2, label=\"x1\")\n",
    "x2 = Value(0.0, label=\"x2\")\n",
    "w1 = Value(-3, label=\"w1\")\n",
    "w2 = Value(1, label=\"w2\")\n",
    "b = Value(6.881373, label=\"b\")\n",
    "\n",
    "# Operações\n",
    "x1w1 = x1 * w1; x1w1.label = \"x1w1\"\n",
    "x2w2 = x2 * w2; x2w2.label = \"x2w2\"\n",
    "x1w1x2w2 = x1w1 + x2w2; x1w1x2w2.label = \"x1w1x2w2\"\n",
    "n = x1w1x2w2 + b; n.label = \"n\"\n",
    "o = n.tanh(); o.label = \"o\"\n",
    "\n",
    "# Definição do gradiente da saída final\n",
    "o.grad = 1\n",
    "\n",
    "# Chamada do backward\n",
    "o._backward()\n",
    "print(o._prev)\n",
    "\n",
    "print(id(n))"
   ]
  },
  {
   "cell_type": "code",
   "execution_count": 125,
   "id": "f40d035c-d125-4cf0-ac2a-9b18eadb0152",
   "metadata": {
    "tags": []
   },
   "outputs": [
    {
     "data": {
      "image/svg+xml": [
       "<?xml version=\"1.0\" encoding=\"UTF-8\" standalone=\"no\"?>\n",
       "<!DOCTYPE svg PUBLIC \"-//W3C//DTD SVG 1.1//EN\"\n",
       " \"http://www.w3.org/Graphics/SVG/1.1/DTD/svg11.dtd\">\n",
       "<!-- Generated by graphviz version 12.2.1 (20241206.2353)\n",
       " -->\n",
       "<!-- Pages: 1 -->\n",
       "<svg width=\"1531pt\" height=\"210pt\"\n",
       " viewBox=\"0.00 0.00 1530.50 210.00\" xmlns=\"http://www.w3.org/2000/svg\" xmlns:xlink=\"http://www.w3.org/1999/xlink\">\n",
       "<g id=\"graph0\" class=\"graph\" transform=\"scale(1 1) rotate(0) translate(4 206)\">\n",
       "<polygon fill=\"white\" stroke=\"none\" points=\"-4,4 -4,-206 1526.5,-206 1526.5,4 -4,4\"/>\n",
       "<!-- 2508895707152 -->\n",
       "<g id=\"node1\" class=\"node\">\n",
       "<title>2508895707152</title>\n",
       "<polygon fill=\"none\" stroke=\"black\" points=\"3.75,-165.5 3.75,-201.5 194.25,-201.5 194.25,-165.5 3.75,-165.5\"/>\n",
       "<text text-anchor=\"middle\" x=\"18.5\" y=\"-178.7\" font-family=\"Times New Roman,serif\" font-size=\"14.00\">x2</text>\n",
       "<polyline fill=\"none\" stroke=\"black\" points=\"33.25,-166 33.25,-201.5\"/>\n",
       "<text text-anchor=\"middle\" x=\"73.12\" y=\"-178.7\" font-family=\"Times New Roman,serif\" font-size=\"14.00\">data 0.0000</text>\n",
       "<polyline fill=\"none\" stroke=\"black\" points=\"113,-166 113,-201.5\"/>\n",
       "<text text-anchor=\"middle\" x=\"153.62\" y=\"-178.7\" font-family=\"Times New Roman,serif\" font-size=\"14.00\">grad 0.0000</text>\n",
       "</g>\n",
       "<!-- 2508895456848* -->\n",
       "<g id=\"node3\" class=\"node\">\n",
       "<title>2508895456848*</title>\n",
       "<ellipse fill=\"none\" stroke=\"black\" cx=\"261\" cy=\"-128.5\" rx=\"27\" ry=\"18\"/>\n",
       "<text text-anchor=\"middle\" x=\"261\" y=\"-123.45\" font-family=\"Times New Roman,serif\" font-size=\"14.00\">*</text>\n",
       "</g>\n",
       "<!-- 2508895707152&#45;&gt;2508895456848* -->\n",
       "<g id=\"edge12\" class=\"edge\">\n",
       "<title>2508895707152&#45;&gt;2508895456848*</title>\n",
       "<path fill=\"none\" stroke=\"black\" d=\"M172.12,-165.01C180.9,-162.35 189.7,-159.5 198,-156.5 208.09,-152.86 218.82,-148.27 228.47,-143.88\"/>\n",
       "<polygon fill=\"black\" stroke=\"black\" points=\"229.86,-147.09 237.45,-139.69 226.9,-140.75 229.86,-147.09\"/>\n",
       "</g>\n",
       "<!-- 2508895456848 -->\n",
       "<g id=\"node2\" class=\"node\">\n",
       "<title>2508895456848</title>\n",
       "<polygon fill=\"none\" stroke=\"black\" points=\"326.25,-110.5 326.25,-146.5 533.25,-146.5 533.25,-110.5 326.25,-110.5\"/>\n",
       "<text text-anchor=\"middle\" x=\"349.25\" y=\"-123.7\" font-family=\"Times New Roman,serif\" font-size=\"14.00\">x2w2</text>\n",
       "<polyline fill=\"none\" stroke=\"black\" points=\"372.25,-111 372.25,-146.5\"/>\n",
       "<text text-anchor=\"middle\" x=\"412.12\" y=\"-123.7\" font-family=\"Times New Roman,serif\" font-size=\"14.00\">data 0.0000</text>\n",
       "<polyline fill=\"none\" stroke=\"black\" points=\"452,-111 452,-146.5\"/>\n",
       "<text text-anchor=\"middle\" x=\"492.62\" y=\"-123.7\" font-family=\"Times New Roman,serif\" font-size=\"14.00\">grad 0.0000</text>\n",
       "</g>\n",
       "<!-- 2508895467920+ -->\n",
       "<g id=\"node15\" class=\"node\">\n",
       "<title>2508895467920+</title>\n",
       "<ellipse fill=\"none\" stroke=\"black\" cx=\"598.5\" cy=\"-100.5\" rx=\"27\" ry=\"18\"/>\n",
       "<text text-anchor=\"middle\" x=\"598.5\" y=\"-95.45\" font-family=\"Times New Roman,serif\" font-size=\"14.00\">+</text>\n",
       "</g>\n",
       "<!-- 2508895456848&#45;&gt;2508895467920+ -->\n",
       "<g id=\"edge6\" class=\"edge\">\n",
       "<title>2508895456848&#45;&gt;2508895467920+</title>\n",
       "<path fill=\"none\" stroke=\"black\" d=\"M533.51,-111.25C543.16,-109.62 552.45,-108.06 560.82,-106.66\"/>\n",
       "<polygon fill=\"black\" stroke=\"black\" points=\"561.2,-110.15 570.48,-105.04 560.04,-103.24 561.2,-110.15\"/>\n",
       "</g>\n",
       "<!-- 2508895456848*&#45;&gt;2508895456848 -->\n",
       "<g id=\"edge1\" class=\"edge\">\n",
       "<title>2508895456848*&#45;&gt;2508895456848</title>\n",
       "<path fill=\"none\" stroke=\"black\" d=\"M288.42,-128.5C296.08,-128.5 304.96,-128.5 314.47,-128.5\"/>\n",
       "<polygon fill=\"black\" stroke=\"black\" points=\"314.37,-132 324.37,-128.5 314.37,-125 314.37,-132\"/>\n",
       "</g>\n",
       "<!-- 2508896819600 -->\n",
       "<g id=\"node4\" class=\"node\">\n",
       "<title>2508896819600</title>\n",
       "<polygon fill=\"none\" stroke=\"black\" points=\"690.38,-27.5 690.38,-63.5 874.12,-63.5 874.12,-27.5 690.38,-27.5\"/>\n",
       "<text text-anchor=\"middle\" x=\"701.75\" y=\"-40.7\" font-family=\"Times New Roman,serif\" font-size=\"14.00\">b</text>\n",
       "<polyline fill=\"none\" stroke=\"black\" points=\"713.12,-28 713.12,-63.5\"/>\n",
       "<text text-anchor=\"middle\" x=\"753\" y=\"-40.7\" font-family=\"Times New Roman,serif\" font-size=\"14.00\">data 6.8814</text>\n",
       "<polyline fill=\"none\" stroke=\"black\" points=\"792.88,-28 792.88,-63.5\"/>\n",
       "<text text-anchor=\"middle\" x=\"833.5\" y=\"-40.7\" font-family=\"Times New Roman,serif\" font-size=\"14.00\">grad 0.0000</text>\n",
       "</g>\n",
       "<!-- 2508895462096+ -->\n",
       "<g id=\"node6\" class=\"node\">\n",
       "<title>2508895462096+</title>\n",
       "<ellipse fill=\"none\" stroke=\"black\" cx=\"966\" cy=\"-72.5\" rx=\"27\" ry=\"18\"/>\n",
       "<text text-anchor=\"middle\" x=\"966\" y=\"-67.45\" font-family=\"Times New Roman,serif\" font-size=\"14.00\">+</text>\n",
       "</g>\n",
       "<!-- 2508896819600&#45;&gt;2508895462096+ -->\n",
       "<g id=\"edge14\" class=\"edge\">\n",
       "<title>2508896819600&#45;&gt;2508895462096+</title>\n",
       "<path fill=\"none\" stroke=\"black\" d=\"M874.39,-59.04C893.45,-61.87 912.49,-64.7 928.16,-67.03\"/>\n",
       "<polygon fill=\"black\" stroke=\"black\" points=\"927.53,-70.47 937.94,-68.48 928.56,-63.55 927.53,-70.47\"/>\n",
       "</g>\n",
       "<!-- 2508895462096 -->\n",
       "<g id=\"node5\" class=\"node\">\n",
       "<title>2508895462096</title>\n",
       "<polygon fill=\"none\" stroke=\"black\" points=\"1029,-54.5 1029,-90.5 1212.75,-90.5 1212.75,-54.5 1029,-54.5\"/>\n",
       "<text text-anchor=\"middle\" x=\"1040.38\" y=\"-67.7\" font-family=\"Times New Roman,serif\" font-size=\"14.00\">n</text>\n",
       "<polyline fill=\"none\" stroke=\"black\" points=\"1051.75,-55 1051.75,-90.5\"/>\n",
       "<text text-anchor=\"middle\" x=\"1091.62\" y=\"-67.7\" font-family=\"Times New Roman,serif\" font-size=\"14.00\">data 0.8814</text>\n",
       "<polyline fill=\"none\" stroke=\"black\" points=\"1131.5,-55 1131.5,-90.5\"/>\n",
       "<text text-anchor=\"middle\" x=\"1172.12\" y=\"-67.7\" font-family=\"Times New Roman,serif\" font-size=\"14.00\">grad 0.5000</text>\n",
       "</g>\n",
       "<!-- 2508895464848tanh -->\n",
       "<g id=\"node13\" class=\"node\">\n",
       "<title>2508895464848tanh</title>\n",
       "<ellipse fill=\"none\" stroke=\"black\" cx=\"1275.75\" cy=\"-72.5\" rx=\"27\" ry=\"18\"/>\n",
       "<text text-anchor=\"middle\" x=\"1275.75\" y=\"-67.45\" font-family=\"Times New Roman,serif\" font-size=\"14.00\">tanh</text>\n",
       "</g>\n",
       "<!-- 2508895462096&#45;&gt;2508895464848tanh -->\n",
       "<g id=\"edge13\" class=\"edge\">\n",
       "<title>2508895462096&#45;&gt;2508895464848tanh</title>\n",
       "<path fill=\"none\" stroke=\"black\" d=\"M1213.01,-72.5C1221.39,-72.5 1229.52,-72.5 1236.98,-72.5\"/>\n",
       "<polygon fill=\"black\" stroke=\"black\" points=\"1236.95,-76 1246.95,-72.5 1236.95,-69 1236.95,-76\"/>\n",
       "</g>\n",
       "<!-- 2508895462096+&#45;&gt;2508895462096 -->\n",
       "<g id=\"edge2\" class=\"edge\">\n",
       "<title>2508895462096+&#45;&gt;2508895462096</title>\n",
       "<path fill=\"none\" stroke=\"black\" d=\"M993.28,-72.5C1000.42,-72.5 1008.61,-72.5 1017.32,-72.5\"/>\n",
       "<polygon fill=\"black\" stroke=\"black\" points=\"1017.06,-76 1027.06,-72.5 1017.06,-69 1017.06,-76\"/>\n",
       "</g>\n",
       "<!-- 2508881804560 -->\n",
       "<g id=\"node7\" class=\"node\">\n",
       "<title>2508881804560</title>\n",
       "<polygon fill=\"none\" stroke=\"black\" points=\"2.25,-110.5 2.25,-146.5 195.75,-146.5 195.75,-110.5 2.25,-110.5\"/>\n",
       "<text text-anchor=\"middle\" x=\"18.5\" y=\"-123.7\" font-family=\"Times New Roman,serif\" font-size=\"14.00\">w2</text>\n",
       "<polyline fill=\"none\" stroke=\"black\" points=\"34.75,-111 34.75,-146.5\"/>\n",
       "<text text-anchor=\"middle\" x=\"74.62\" y=\"-123.7\" font-family=\"Times New Roman,serif\" font-size=\"14.00\">data 1.0000</text>\n",
       "<polyline fill=\"none\" stroke=\"black\" points=\"114.5,-111 114.5,-146.5\"/>\n",
       "<text text-anchor=\"middle\" x=\"155.12\" y=\"-123.7\" font-family=\"Times New Roman,serif\" font-size=\"14.00\">grad 0.0000</text>\n",
       "</g>\n",
       "<!-- 2508881804560&#45;&gt;2508895456848* -->\n",
       "<g id=\"edge10\" class=\"edge\">\n",
       "<title>2508881804560&#45;&gt;2508895456848*</title>\n",
       "<path fill=\"none\" stroke=\"black\" d=\"M195.84,-128.5C205.14,-128.5 214.15,-128.5 222.32,-128.5\"/>\n",
       "<polygon fill=\"black\" stroke=\"black\" points=\"222.13,-132 232.13,-128.5 222.13,-125 222.13,-132\"/>\n",
       "</g>\n",
       "<!-- 2508896828176 -->\n",
       "<g id=\"node8\" class=\"node\">\n",
       "<title>2508896828176</title>\n",
       "<polygon fill=\"none\" stroke=\"black\" points=\"3.75,-55.5 3.75,-91.5 194.25,-91.5 194.25,-55.5 3.75,-55.5\"/>\n",
       "<text text-anchor=\"middle\" x=\"18.5\" y=\"-68.7\" font-family=\"Times New Roman,serif\" font-size=\"14.00\">x1</text>\n",
       "<polyline fill=\"none\" stroke=\"black\" points=\"33.25,-56 33.25,-91.5\"/>\n",
       "<text text-anchor=\"middle\" x=\"73.12\" y=\"-68.7\" font-family=\"Times New Roman,serif\" font-size=\"14.00\">data 2.0000</text>\n",
       "<polyline fill=\"none\" stroke=\"black\" points=\"113,-56 113,-91.5\"/>\n",
       "<text text-anchor=\"middle\" x=\"153.62\" y=\"-68.7\" font-family=\"Times New Roman,serif\" font-size=\"14.00\">grad 0.0000</text>\n",
       "</g>\n",
       "<!-- 2508896817488* -->\n",
       "<g id=\"node11\" class=\"node\">\n",
       "<title>2508896817488*</title>\n",
       "<ellipse fill=\"none\" stroke=\"black\" cx=\"261\" cy=\"-73.5\" rx=\"27\" ry=\"18\"/>\n",
       "<text text-anchor=\"middle\" x=\"261\" y=\"-68.45\" font-family=\"Times New Roman,serif\" font-size=\"14.00\">*</text>\n",
       "</g>\n",
       "<!-- 2508896828176&#45;&gt;2508896817488* -->\n",
       "<g id=\"edge7\" class=\"edge\">\n",
       "<title>2508896828176&#45;&gt;2508896817488*</title>\n",
       "<path fill=\"none\" stroke=\"black\" d=\"M194.46,-73.5C204.21,-73.5 213.66,-73.5 222.21,-73.5\"/>\n",
       "<polygon fill=\"black\" stroke=\"black\" points=\"222.12,-77 232.12,-73.5 222.12,-70 222.12,-77\"/>\n",
       "</g>\n",
       "<!-- 2508896414992 -->\n",
       "<g id=\"node9\" class=\"node\">\n",
       "<title>2508896414992</title>\n",
       "<polygon fill=\"none\" stroke=\"black\" points=\"0,-0.5 0,-36.5 198,-36.5 198,-0.5 0,-0.5\"/>\n",
       "<text text-anchor=\"middle\" x=\"16.25\" y=\"-13.7\" font-family=\"Times New Roman,serif\" font-size=\"14.00\">w1</text>\n",
       "<polyline fill=\"none\" stroke=\"black\" points=\"32.5,-1 32.5,-36.5\"/>\n",
       "<text text-anchor=\"middle\" x=\"74.62\" y=\"-13.7\" font-family=\"Times New Roman,serif\" font-size=\"14.00\">data &#45;3.0000</text>\n",
       "<polyline fill=\"none\" stroke=\"black\" points=\"116.75,-1 116.75,-36.5\"/>\n",
       "<text text-anchor=\"middle\" x=\"157.38\" y=\"-13.7\" font-family=\"Times New Roman,serif\" font-size=\"14.00\">grad 0.0000</text>\n",
       "</g>\n",
       "<!-- 2508896414992&#45;&gt;2508896817488* -->\n",
       "<g id=\"edge9\" class=\"edge\">\n",
       "<title>2508896414992&#45;&gt;2508896817488*</title>\n",
       "<path fill=\"none\" stroke=\"black\" d=\"M172.12,-36.99C180.9,-39.65 189.7,-42.5 198,-45.5 208.09,-49.14 218.82,-53.73 228.47,-58.12\"/>\n",
       "<polygon fill=\"black\" stroke=\"black\" points=\"226.9,-61.25 237.45,-62.31 229.86,-54.91 226.9,-61.25\"/>\n",
       "</g>\n",
       "<!-- 2508896817488 -->\n",
       "<g id=\"node10\" class=\"node\">\n",
       "<title>2508896817488</title>\n",
       "<polygon fill=\"none\" stroke=\"black\" points=\"324,-55.5 324,-91.5 535.5,-91.5 535.5,-55.5 324,-55.5\"/>\n",
       "<text text-anchor=\"middle\" x=\"347\" y=\"-68.7\" font-family=\"Times New Roman,serif\" font-size=\"14.00\">x1w1</text>\n",
       "<polyline fill=\"none\" stroke=\"black\" points=\"370,-56 370,-91.5\"/>\n",
       "<text text-anchor=\"middle\" x=\"412.12\" y=\"-68.7\" font-family=\"Times New Roman,serif\" font-size=\"14.00\">data &#45;6.0000</text>\n",
       "<polyline fill=\"none\" stroke=\"black\" points=\"454.25,-56 454.25,-91.5\"/>\n",
       "<text text-anchor=\"middle\" x=\"494.88\" y=\"-68.7\" font-family=\"Times New Roman,serif\" font-size=\"14.00\">grad 0.0000</text>\n",
       "</g>\n",
       "<!-- 2508896817488&#45;&gt;2508895467920+ -->\n",
       "<g id=\"edge11\" class=\"edge\">\n",
       "<title>2508896817488&#45;&gt;2508895467920+</title>\n",
       "<path fill=\"none\" stroke=\"black\" d=\"M535.88,-90.52C544.59,-91.93 552.96,-93.29 560.56,-94.52\"/>\n",
       "<polygon fill=\"black\" stroke=\"black\" points=\"559.91,-97.96 570.34,-96.1 561.03,-91.05 559.91,-97.96\"/>\n",
       "</g>\n",
       "<!-- 2508896817488*&#45;&gt;2508896817488 -->\n",
       "<g id=\"edge3\" class=\"edge\">\n",
       "<title>2508896817488*&#45;&gt;2508896817488</title>\n",
       "<path fill=\"none\" stroke=\"black\" d=\"M288.42,-73.5C295.52,-73.5 303.68,-73.5 312.42,-73.5\"/>\n",
       "<polygon fill=\"black\" stroke=\"black\" points=\"312.24,-77 322.24,-73.5 312.24,-70 312.24,-77\"/>\n",
       "</g>\n",
       "<!-- 2508895464848 -->\n",
       "<g id=\"node12\" class=\"node\">\n",
       "<title>2508895464848</title>\n",
       "<polygon fill=\"none\" stroke=\"black\" points=\"1338.75,-54.5 1338.75,-90.5 1522.5,-90.5 1522.5,-54.5 1338.75,-54.5\"/>\n",
       "<text text-anchor=\"middle\" x=\"1350.12\" y=\"-67.7\" font-family=\"Times New Roman,serif\" font-size=\"14.00\">o</text>\n",
       "<polyline fill=\"none\" stroke=\"black\" points=\"1361.5,-55 1361.5,-90.5\"/>\n",
       "<text text-anchor=\"middle\" x=\"1401.38\" y=\"-67.7\" font-family=\"Times New Roman,serif\" font-size=\"14.00\">data 0.7071</text>\n",
       "<polyline fill=\"none\" stroke=\"black\" points=\"1441.25,-55 1441.25,-90.5\"/>\n",
       "<text text-anchor=\"middle\" x=\"1481.88\" y=\"-67.7\" font-family=\"Times New Roman,serif\" font-size=\"14.00\">grad 1.0000</text>\n",
       "</g>\n",
       "<!-- 2508895464848tanh&#45;&gt;2508895464848 -->\n",
       "<g id=\"edge4\" class=\"edge\">\n",
       "<title>2508895464848tanh&#45;&gt;2508895464848</title>\n",
       "<path fill=\"none\" stroke=\"black\" d=\"M1303.03,-72.5C1310.17,-72.5 1318.36,-72.5 1327.07,-72.5\"/>\n",
       "<polygon fill=\"black\" stroke=\"black\" points=\"1326.81,-76 1336.81,-72.5 1326.81,-69 1326.81,-76\"/>\n",
       "</g>\n",
       "<!-- 2508895467920 -->\n",
       "<g id=\"node14\" class=\"node\">\n",
       "<title>2508895467920</title>\n",
       "<polygon fill=\"none\" stroke=\"black\" points=\"661.5,-82.5 661.5,-118.5 903,-118.5 903,-82.5 661.5,-82.5\"/>\n",
       "<text text-anchor=\"middle\" x=\"699.5\" y=\"-95.7\" font-family=\"Times New Roman,serif\" font-size=\"14.00\">x1w1x2w2</text>\n",
       "<polyline fill=\"none\" stroke=\"black\" points=\"737.5,-83 737.5,-118.5\"/>\n",
       "<text text-anchor=\"middle\" x=\"779.62\" y=\"-95.7\" font-family=\"Times New Roman,serif\" font-size=\"14.00\">data &#45;6.0000</text>\n",
       "<polyline fill=\"none\" stroke=\"black\" points=\"821.75,-83 821.75,-118.5\"/>\n",
       "<text text-anchor=\"middle\" x=\"862.38\" y=\"-95.7\" font-family=\"Times New Roman,serif\" font-size=\"14.00\">grad 0.0000</text>\n",
       "</g>\n",
       "<!-- 2508895467920&#45;&gt;2508895462096+ -->\n",
       "<g id=\"edge8\" class=\"edge\">\n",
       "<title>2508895467920&#45;&gt;2508895462096+</title>\n",
       "<path fill=\"none\" stroke=\"black\" d=\"M903.21,-82.02C911.99,-80.67 920.37,-79.38 927.96,-78.21\"/>\n",
       "<polygon fill=\"black\" stroke=\"black\" points=\"928.35,-81.69 937.7,-76.71 927.28,-74.77 928.35,-81.69\"/>\n",
       "</g>\n",
       "<!-- 2508895467920+&#45;&gt;2508895467920 -->\n",
       "<g id=\"edge5\" class=\"edge\">\n",
       "<title>2508895467920+&#45;&gt;2508895467920</title>\n",
       "<path fill=\"none\" stroke=\"black\" d=\"M625.93,-100.5C632.99,-100.5 641.12,-100.5 649.88,-100.5\"/>\n",
       "<polygon fill=\"black\" stroke=\"black\" points=\"649.77,-104 659.77,-100.5 649.77,-97 649.77,-104\"/>\n",
       "</g>\n",
       "</g>\n",
       "</svg>\n"
      ],
      "text/plain": [
       "<graphviz.graphs.Digraph at 0x24825e66e50>"
      ]
     },
     "execution_count": 125,
     "metadata": {},
     "output_type": "execute_result"
    }
   ],
   "source": [
    "draw_dot(o)"
   ]
  },
  {
   "cell_type": "code",
   "execution_count": 107,
   "id": "9b7a6ba1-2bf9-449e-a72a-ce2abece131d",
   "metadata": {
    "tags": []
   },
   "outputs": [],
   "source": [
    "o.grad = 1"
   ]
  },
  {
   "cell_type": "code",
   "execution_count": 108,
   "id": "ef0b3a7c",
   "metadata": {},
   "outputs": [
    {
     "data": {
      "text/plain": [
       "<function __main__.Value.tanh.<locals>._backward_f()>"
      ]
     },
     "execution_count": 108,
     "metadata": {},
     "output_type": "execute_result"
    }
   ],
   "source": [
    "o._backward"
   ]
  },
  {
   "cell_type": "code",
   "execution_count": 109,
   "id": "a24ffecf-b724-4075-8b88-178867157d38",
   "metadata": {
    "tags": []
   },
   "outputs": [
    {
     "name": "stdout",
     "output_type": "stream",
     "text": [
      "0.0\n",
      "0.7071064876766542\n",
      "1\n"
     ]
    }
   ],
   "source": [
    "o._backward()"
   ]
  },
  {
   "cell_type": "code",
   "execution_count": 103,
   "id": "a2787035",
   "metadata": {},
   "outputs": [],
   "source": [
    "def teste():\n",
    " return \"banana\""
   ]
  },
  {
   "cell_type": "code",
   "execution_count": 130,
   "id": "379a9bc2-b884-446b-9bba-d26818b47ac7",
   "metadata": {
    "tags": []
   },
   "outputs": [],
   "source": [
    "topo = []\n",
    "visited = []\n",
    "def build_topo(v):\n",
    "    if v not in visited:\n",
    "        visited.append(v)\n",
    "        for child in v._prev:\n",
    "            build_topo(child)\n",
    "        topo.append(v)\n",
    "    "
   ]
  },
  {
   "cell_type": "code",
   "execution_count": 131,
   "id": "ad02aa13",
   "metadata": {},
   "outputs": [],
   "source": [
    "build_topo(o)"
   ]
  },
  {
   "cell_type": "code",
   "execution_count": 132,
   "id": "0ca9d693",
   "metadata": {},
   "outputs": [
    {
     "data": {
      "text/plain": [
       "[Value(data=0.7071064876766542, label=o),\n",
       " Value(data=0.881373, label=n),\n",
       " Value(data=-6.0, label=x1w1x2w2),\n",
       " Value(data=0.0, label=x2w2),\n",
       " Value(data=0.0, label=x2),\n",
       " Value(data=1, label=w2),\n",
       " Value(data=-6, label=x1w1),\n",
       " Value(data=2, label=x1),\n",
       " Value(data=-3, label=w1),\n",
       " Value(data=6.881373, label=b)]"
      ]
     },
     "execution_count": 132,
     "metadata": {},
     "output_type": "execute_result"
    }
   ],
   "source": [
    "visited"
   ]
  },
  {
   "cell_type": "code",
   "execution_count": 133,
   "id": "b3e9c529",
   "metadata": {},
   "outputs": [
    {
     "data": {
      "text/plain": [
       "[Value(data=0.0, label=x2),\n",
       " Value(data=1, label=w2),\n",
       " Value(data=0.0, label=x2w2),\n",
       " Value(data=2, label=x1),\n",
       " Value(data=-3, label=w1),\n",
       " Value(data=-6, label=x1w1),\n",
       " Value(data=-6.0, label=x1w1x2w2),\n",
       " Value(data=6.881373, label=b),\n",
       " Value(data=0.881373, label=n),\n",
       " Value(data=0.7071064876766542, label=o)]"
      ]
     },
     "execution_count": 133,
     "metadata": {},
     "output_type": "execute_result"
    }
   ],
   "source": [
    "topo"
   ]
  },
  {
   "cell_type": "code",
   "execution_count": null,
   "id": "3cee1982",
   "metadata": {},
   "outputs": [],
   "source": []
  }
 ],
 "metadata": {
  "kernelspec": {
   "display_name": "base",
   "language": "python",
   "name": "python3"
  },
  "language_info": {
   "codemirror_mode": {
    "name": "ipython",
    "version": 3
   },
   "file_extension": ".py",
   "mimetype": "text/x-python",
   "name": "python",
   "nbconvert_exporter": "python",
   "pygments_lexer": "ipython3",
   "version": "3.11.5"
  }
 },
 "nbformat": 4,
 "nbformat_minor": 5
}
